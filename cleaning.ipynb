{
 "cells": [
  {
   "cell_type": "code",
   "execution_count": 3,
   "metadata": {},
   "outputs": [],
   "source": [
    "import pandas as pd\n",
    "import json\n",
    "import re"
   ]
  },
  {
   "cell_type": "markdown",
   "metadata": {},
   "source": [
    "# Nissan"
   ]
  },
  {
   "cell_type": "code",
   "execution_count": 21,
   "metadata": {},
   "outputs": [
    {
     "name": "stdout",
     "output_type": "stream",
     "text": [
      "evalia\n",
      "juke\n",
      "kiks\n",
      "leaf\n",
      "micra\n",
      "sunny\n",
      "terrano\n"
     ]
    }
   ],
   "source": [
    "import os\n",
    "def list_files_in_folder(folder_path):\n",
    "    files_list = []\n",
    "    for file in os.listdir(folder_path):\n",
    "        if os.path.isfile(os.path.join(folder_path, file)):\n",
    "            files_list.append(file)\n",
    "    return files_list\n",
    "\n",
    "folder_path = \"./nissan\"\n",
    "\n",
    "# List files in the folder\n",
    "files = list_files_in_folder(folder_path)\n",
    "\n",
    "# Print the list of filenames\n",
    "for file_name in files:\n",
    "    print(file_name.replace(\".json\",\"\"))\n"
   ]
  },
  {
   "cell_type": "code",
   "execution_count": 22,
   "metadata": {},
   "outputs": [
    {
     "name": "stdout",
     "output_type": "stream",
     "text": [
      "added evalia.csv\n",
      "added juke.csv\n",
      "added kiks.csv\n",
      "added leaf.csv\n",
      "added micra.csv\n",
      "added sunny.csv\n",
      "added terrano.csv\n",
      "Total Length: 2253\n"
     ]
    }
   ],
   "source": [
    "totalLen = 0\n",
    "for file in files:\n",
    "    with open(f\"./nissan/{file}\",'r') as f:\n",
    "        data = json.load(f)\n",
    "        file = str(file).replace(\".json\",\"\")\n",
    "        # datas.append({i:data['datas']})\n",
    "        df = pd.DataFrame(data['datas'])\n",
    "        df['location'] = df['extra'].map(lambda x: x['Location'])\n",
    "        df['posted'] = df['extra'].map(lambda x: x['Posts'])\n",
    "        df['thanked'] = df['extra'].map(lambda x: x['Thanked'])\n",
    "        df.drop(\"extra\",axis=1,inplace=True)\n",
    "        df = df.rename(columns={\"Posts\":\"posted\"})\n",
    "        df['post'] = df['post'].map(lambda x: re.sub(r'\\s+', ' ',x.replace(\"\\n\",\" \").replace(\"\\n\",\" \").replace(\"\\t\",\" \").replace(\"\\r\",\" \")))\n",
    "        totalLen += len(df)\n",
    "        # df.to_csv(f\"./nissan_csv/{file}.csv\")\n",
    "        print(f\"added {file}.csv\")\n",
    "print(\"Total Length:\",totalLen)"
   ]
  },
  {
   "cell_type": "markdown",
   "metadata": {},
   "source": [
    "# Renault"
   ]
  },
  {
   "cell_type": "code",
   "execution_count": 23,
   "metadata": {},
   "outputs": [
    {
     "name": "stdout",
     "output_type": "stream",
     "text": [
      "captur\n",
      "clio-f1\n",
      "duster\n",
      "fluence\n",
      "kwid\n",
      "lodgy\n",
      "pulse\n",
      "sandero\n",
      "scala\n",
      "sedan\n",
      "triber\n",
      "zoe\n"
     ]
    }
   ],
   "source": [
    "import os\n",
    "def list_files_in_folder(folder_path):\n",
    "    files_list = []\n",
    "    for file in os.listdir(folder_path):\n",
    "        if os.path.isfile(os.path.join(folder_path, file)):\n",
    "            files_list.append(file)\n",
    "    return files_list\n",
    "\n",
    "folder_path = \"./renault\"\n",
    "\n",
    "# List files in the folder\n",
    "files = list_files_in_folder(folder_path)\n",
    "\n",
    "# Print the list of filenames\n",
    "for file_name in files:\n",
    "    print(file_name.replace(\".json\",\"\"))"
   ]
  },
  {
   "cell_type": "code",
   "execution_count": 24,
   "metadata": {},
   "outputs": [
    {
     "name": "stdout",
     "output_type": "stream",
     "text": [
      "added captur.csv\n",
      "added clio-f1.csv\n",
      "added duster.csv\n",
      "added fluence.csv\n",
      "added kwid.csv\n",
      "added lodgy.csv\n",
      "added pulse.csv\n",
      "added sandero.csv\n",
      "added scala.csv\n",
      "added sedan.csv\n",
      "added triber.csv\n",
      "added zoe.csv\n",
      "Total Length: 3757\n"
     ]
    }
   ],
   "source": [
    "totalLen = 0\n",
    "for file in files:\n",
    "    with open(f\"./renault/{file}\",'r') as f:\n",
    "        data = json.load(f)\n",
    "        file = str(file).replace(\".json\",\"\")\n",
    "        # datas.append({i:data['datas']})\n",
    "        df = pd.DataFrame(data['datas'])\n",
    "        df['location'] = df['extra'].map(lambda x: x['Location'])\n",
    "        df['posted'] = df['extra'].map(lambda x: x['Posts'])\n",
    "        df['thanked'] = df['extra'].map(lambda x: x['Thanked'])\n",
    "        df.drop(\"extra\",axis=1,inplace=True)\n",
    "        df = df.rename(columns={\"Posts\":\"posted\"})\n",
    "        df['post'] = df['post'].map(lambda x: re.sub(r'\\s+', ' ',x.replace(\"\\n\",\" \").replace(\"\\n\",\" \").replace(\"\\t\",\" \").replace(\"\\r\",\" \")))\n",
    "        totalLen += len(df)\n",
    "        # df.to_csv(f\"./renault_csv/{file}.csv\")\n",
    "        print(f\"added {file}.csv\")\n",
    "print(\"Total Length:\",totalLen)\n",
    "\n"
   ]
  }
 ],
 "metadata": {
  "kernelspec": {
   "display_name": "base",
   "language": "python",
   "name": "python3"
  },
  "language_info": {
   "codemirror_mode": {
    "name": "ipython",
    "version": 3
   },
   "file_extension": ".py",
   "mimetype": "text/x-python",
   "name": "python",
   "nbconvert_exporter": "python",
   "pygments_lexer": "ipython3",
   "version": "3.11.5"
  }
 },
 "nbformat": 4,
 "nbformat_minor": 2
}
